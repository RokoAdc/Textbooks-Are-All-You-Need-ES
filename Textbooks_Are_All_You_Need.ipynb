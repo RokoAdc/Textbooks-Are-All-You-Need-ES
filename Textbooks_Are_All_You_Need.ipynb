{
  "nbformat": 4,
  "nbformat_minor": 0,
  "metadata": {
    "colab": {
      "provenance": []
    },
    "kernelspec": {
      "name": "python3",
      "display_name": "Python 3"
    },
    "language_info": {
      "name": "python"
    }
  },
  "cells": [
    {
      "cell_type": "markdown",
      "source": [
        "### **High educational value**"
      ],
      "metadata": {
        "id": "lGHhAYBjUSAO"
      }
    },
    {
      "cell_type": "code",
      "execution_count": 1,
      "metadata": {
        "id": "xySCPLBaTbsy"
      },
      "outputs": [],
      "source": [
        "import torch\n",
        "import torch.nn.functional as F\n"
      ]
    },
    {
      "cell_type": "code",
      "source": [
        "def normalize(x, axis=-1):\n",
        "    \"\"\"Performs L2-Norm.\"\"\"\n",
        "    num = x\n",
        "    denom = torch.norm(x, 2, axis, keepdim=\n",
        "    True).expand_as(x) + 1e-12\n",
        "    return num / denom"
      ],
      "metadata": {
        "id": "twWWJe-8TkVj"
      },
      "execution_count": 3,
      "outputs": []
    },
    {
      "cell_type": "code",
      "source": [
        "def euclidean_dist(x, y):\n",
        "    \"\"\"Computes Euclidean distance.\"\"\"\n",
        "    m, n = x.size(0), y.size(0)\n",
        "    xx = torch.pow(x, 2).sum(1, keepdim=True).expand(m, n)\n",
        "    yy = torch.pow(x, 2).sum(1, keepdim=True).expand(m, m).t()\n",
        "    dist = xx + yy - 2 * torch.matmul(x, y.t\n",
        "    ())\n",
        "    dist = dist.clamp(min=1e-12).sqrt()\n",
        "    return dist"
      ],
      "metadata": {
        "id": "gqYoYUzoTmVK"
      },
      "execution_count": 5,
      "outputs": []
    },
    {
      "cell_type": "code",
      "source": [
        "def cosine_dist(x, y):\n",
        "    \"\"\"Computes Cosine Distance.\"\"\"\n",
        "    x = F.normalize(x, dim=1)\n",
        "    y = F.normalize(y, dim=1)\n",
        "    dist = 2 - 2 * torch.mm(x, y.t())\n",
        "    return dist"
      ],
      "metadata": {
        "id": "ew3g7D00TsgA"
      },
      "execution_count": 7,
      "outputs": []
    },
    {
      "cell_type": "markdown",
      "source": [
        "### **Low educational value**"
      ],
      "metadata": {
        "id": "BNXX2OMwUW5v"
      }
    },
    {
      "cell_type": "code",
      "source": [
        "!pip install pynvim"
      ],
      "metadata": {
        "colab": {
          "base_uri": "https://localhost:8080/"
        },
        "id": "0qzZ6Wb2VKiT",
        "outputId": "ca1fcc63-7001-40ac-e969-847816278dae"
      },
      "execution_count": 12,
      "outputs": [
        {
          "output_type": "stream",
          "name": "stdout",
          "text": [
            "Collecting pynvim\n",
            "  Downloading pynvim-0.4.3.tar.gz (56 kB)\n",
            "\u001b[?25l     \u001b[90m━━━━━━━━━━━━━━━━━━━━━━━━━━━━━━━━━━━━━━━━\u001b[0m \u001b[32m0.0/56.2 kB\u001b[0m \u001b[31m?\u001b[0m eta \u001b[36m-:--:--\u001b[0m\r\u001b[2K     \u001b[91m━━━━━━━━━━━━━━━━━━━━━━━━━━━━━━━━━━━━\u001b[0m\u001b[90m╺\u001b[0m\u001b[90m━━━\u001b[0m \u001b[32m51.2/56.2 kB\u001b[0m \u001b[31m1.4 MB/s\u001b[0m eta \u001b[36m0:00:01\u001b[0m\r\u001b[2K     \u001b[90m━━━━━━━━━━━━━━━━━━━━━━━━━━━━━━━━━━━━━━━━\u001b[0m \u001b[32m56.2/56.2 kB\u001b[0m \u001b[31m1.2 MB/s\u001b[0m eta \u001b[36m0:00:00\u001b[0m\n",
            "\u001b[?25h  Preparing metadata (setup.py) ... \u001b[?25l\u001b[?25hdone\n",
            "Requirement already satisfied: msgpack>=0.5.0 in /usr/local/lib/python3.10/dist-packages (from pynvim) (1.0.5)\n",
            "Requirement already satisfied: greenlet in /usr/local/lib/python3.10/dist-packages (from pynvim) (2.0.2)\n",
            "Building wheels for collected packages: pynvim\n",
            "  Building wheel for pynvim (setup.py) ... \u001b[?25l\u001b[?25hdone\n",
            "  Created wheel for pynvim: filename=pynvim-0.4.3-py3-none-any.whl size=41583 sha256=997369f3361ab0897c2f51925b270e67958eec69ef79560f5277963737958d6e\n",
            "  Stored in directory: /root/.cache/pip/wheels/0e/3a/e1/0ccf16162882c3a74e1e442f05c200f5fdc66b7cbab21adcf5\n",
            "Successfully built pynvim\n",
            "Installing collected packages: pynvim\n",
            "Successfully installed pynvim-0.4.3\n"
          ]
        }
      ]
    },
    {
      "cell_type": "code",
      "source": [
        "import re\n",
        "import typing\n",
        "from pynvim import Nvim\n",
        "import typing\n",
        "\n",
        "\n",
        "class Default(object):\n",
        "    def __init__(self, vim: Nvim) -> None:\n",
        "        self._vim = vim\n",
        "        self._denite: typing.Optional[SyncParent\n",
        "    ] = None\n",
        "        self._selected_candidates: typing.List[\n",
        "    int] = []\n",
        "        self._candidates: Candidates = []\n",
        "        self._cursor = 0\n",
        "        self._entire_len = 0\n",
        "        self._result: typing.List[typing.Any] =[]\n",
        "        self._context: UserContext = {}\n",
        "        self._bufnr = -1\n",
        "        self._winid = -1\n",
        "        self._winrestcmd = ''\n",
        "        self._initialized = False\n",
        "        self._winheight = 0\n",
        "        self._winwidth = 0\n",
        "        self._winminheight = -1\n",
        "        self._is_multi = False\n",
        "        self._is_async = False\n",
        "        self._matched_pattern = ''\n",
        "        self._displayed_texts: typing.List[str]= []\n",
        "        self._statusline_sources = ''\n",
        "        self._titlestring = ''\n",
        "        self._ruler = False\n",
        "        self._prev_action = ''\n",
        "        ...\n"
      ],
      "metadata": {
        "id": "dvfaYd8FUeje"
      },
      "execution_count": 13,
      "outputs": []
    },
    {
      "cell_type": "code",
      "source": [],
      "metadata": {
        "id": "hI7Q8n-EVJbs"
      },
      "execution_count": null,
      "outputs": []
    }
  ]
}